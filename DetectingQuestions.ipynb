{
  "nbformat": 4,
  "nbformat_minor": 0,
  "metadata": {
    "colab": {
      "name": "DetectingQuestions.ipynb",
      "provenance": [],
      "authorship_tag": "ABX9TyNlnA6lTc+XVRFNSkgUtRGl",
      "include_colab_link": true
    },
    "kernelspec": {
      "name": "python3",
      "display_name": "Python 3"
    },
    "language_info": {
      "name": "python"
    }
  },
  "cells": [
    {
      "cell_type": "markdown",
      "metadata": {
        "id": "view-in-github",
        "colab_type": "text"
      },
      "source": [
        "<a href=\"https://colab.research.google.com/github/KhalidNazzar/ForFun/blob/main/DetectingQuestions.ipynb\" target=\"_parent\"><img src=\"https://colab.research.google.com/assets/colab-badge.svg\" alt=\"Open In Colab\"/></a>"
      ]
    },
    {
      "cell_type": "code",
      "execution_count": 8,
      "metadata": {
        "colab": {
          "base_uri": "https://localhost:8080/"
        },
        "id": "G0O0LnuzyPYg",
        "outputId": "eca27509-2807-4a9a-9416-af0229d1cd86"
      },
      "outputs": [
        {
          "output_type": "stream",
          "name": "stdout",
          "text": [
            "NLTK Downloader\n",
            "---------------------------------------------------------------------------\n",
            "    d) Download   l) List    u) Update   c) Config   h) Help   q) Quit\n",
            "---------------------------------------------------------------------------\n",
            "Downloader> d\n",
            "\n",
            "Download which package (l=list; x=cancel)?\n",
            "  Identifier> punkt\n",
            "    Downloading package punkt to /root/nltk_data...\n",
            "      Package punkt is already up-to-date!\n",
            "\n",
            "---------------------------------------------------------------------------\n",
            "    d) Download   l) List    u) Update   c) Config   h) Help   q) Quit\n",
            "---------------------------------------------------------------------------\n",
            "Downloader> q\n",
            "Input a sentence: What's up\n",
            "This is a question!\n"
          ]
        }
      ],
      "source": [
        "import nltk\n",
        "nltk.download()\n",
        "from nltk.tokenize import word_tokenize\n",
        "\n",
        "question_words = [\"what\", \"why\", \"when\", \"where\", \n",
        "             \"name\", \"is\", \"how\", \"do\", \"does\", \n",
        "             \"which\", \"are\", \"could\", \"would\", \n",
        "             \"should\", \"has\", \"have\", \"whom\", \"whose\", \"don't\"]\n",
        "\n",
        "question = input(\"Input a sentence: \")\n",
        "question = question.lower()\n",
        "question = word_tokenize(question)\n",
        "\n",
        "if any(x in question[0] for x in question_words):\n",
        "    print(\"This is a question!\")\n",
        "else:\n",
        "    print(\"This is not a question!\")"
      ]
    },
    {
      "cell_type": "code",
      "source": [
        ""
      ],
      "metadata": {
        "id": "ujygFx0GyxoM"
      },
      "execution_count": null,
      "outputs": []
    }
  ]
}